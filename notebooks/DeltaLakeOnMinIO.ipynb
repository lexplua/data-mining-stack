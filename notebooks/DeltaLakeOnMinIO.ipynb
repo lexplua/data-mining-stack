{
 "cells": [
  {
   "cell_type": "code",
   "execution_count": null,
   "id": "976e7500-7441-4ac9-982b-61b9f287570b",
   "metadata": {},
   "outputs": [],
   "source": [
    "import os\n",
    "# Set spark environments\n",
    "os.environ['PYSPARK_PYTHON'] = 'python'\n",
    "os.environ['PYSPARK_DRIVER_PYTHON'] = 'python'\n",
    "import findspark\n",
    "findspark.init()\n",
    "\n",
    "from pyspark.sql import SparkSession\n",
    "from pyspark.conf import SparkConf\n",
    "from delta import *\n",
    "\n",
    "conf = SparkConf() \\\n",
    "\n",
    "builder = SparkSession.builder.config(conf=conf) \\\n",
    "    .master(\"spark://spark-master:7077\") \\\n",
    "    .appName(\"JupyterSpark\")\n",
    "\n",
    "spark = configure_spark_with_delta_pip(builder).getOrCreate()"
   ]
  },
  {
   "cell_type": "code",
   "execution_count": null,
   "id": "6151431e-1472-4773-8a90-756dbfdf81ea",
   "metadata": {},
   "outputs": [],
   "source": [
    "# Creating a simple DataFrame\n",
    "df = spark.createDataFrame([(1, 'John'), (2, 'Mike'), (3, 'Sara')], ['id', 'name'])\n",
    "df.write.format(\"delta\").mode(\"overwrite\").save(\"s3a://mlflow-dwh/test_delta\")"
   ]
  },
  {
   "cell_type": "markdown",
   "id": "b8e61ba6-c54f-4093-bada-7f312247b965",
   "metadata": {},
   "source": [
    "### Check http://localhost:9001/browser/mlflow-dwh for new table"
   ]
  }
 ],
 "metadata": {
  "kernelspec": {
   "display_name": "Python 3 (ipykernel)",
   "language": "python",
   "name": "python3"
  },
  "language_info": {
   "codemirror_mode": {
    "name": "ipython",
    "version": 3
   },
   "file_extension": ".py",
   "mimetype": "text/x-python",
   "name": "python",
   "nbconvert_exporter": "python",
   "pygments_lexer": "ipython3",
   "version": "3.9.13"
  }
 },
 "nbformat": 4,
 "nbformat_minor": 5
}
